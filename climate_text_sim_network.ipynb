{
 "cells": [
  {
   "cell_type": "code",
   "execution_count": 26,
   "metadata": {},
   "outputs": [
    {
     "name": "stdout",
     "output_type": "stream",
     "text": [
      "    i      j  title_sim  article_sim\n",
      "0  24  17924        0.0     0.101125\n",
      "1  24  18141        0.0     0.091712\n",
      "2  24  18319        0.0     0.088305\n",
      "3  24  18654        0.0     0.065082\n",
      "4  24  18748        0.0     0.043199\n"
     ]
    },
    {
     "data": {
      "text/plain": [
       "(453, 4)"
      ]
     },
     "execution_count": 26,
     "metadata": {},
     "output_type": "execute_result"
    }
   ],
   "source": [
    "# Climate: Use Text Similarity (article spinning) to Connect News Media\n",
    "import pandas as pd\n",
    "import numpy as np\n",
    "import os\n",
    "import sys\n",
    "import json\n",
    "import re\n",
    "import nltk\n",
    "\n",
    "# Load the .npz file\n",
    "file_path = '/Users/maxzhu/Downloads/37000_proj/ground_news_webscraper/pairwise_similarity_scores_climate_sample.npz' \n",
    "# sample 0.5% of the pairs\n",
    "data = np.load(file_path)\n",
    "# save results as a DataFrame\n",
    "data = data['results']\n",
    "df_results = pd.DataFrame(data)\n",
    "print(df_results.head())\n",
    "df_results = df_results[(df_results['title_sim'] > 0.6) & (df_results['article_sim'] > 0.7)]\n",
    "df_results.shape\n"
   ]
  },
  {
   "cell_type": "code",
   "execution_count": 3,
   "metadata": {},
   "outputs": [],
   "source": [
    "df = pd.read_csv('/Users/maxzhu/Downloads/37000_proj/ground_news_webscraper/climate-change_articles_en.csv')"
   ]
  },
  {
   "cell_type": "code",
   "execution_count": 27,
   "metadata": {},
   "outputs": [
    {
     "name": "stdout",
     "output_type": "stream",
     "text": [
      "General Matching Statistics (ignoring pairs with 'unknown' or NaN):\n",
      "  story_id            : 96.25% matches over 453 valid pairs\n",
      "  source_bias         : 57.72% matches over 149 valid pairs\n",
      "  source_owners       : 40.22% matches over 92 valid pairs\n",
      "==================================================\n",
      "\n",
      "Examples of mismatches in 'story_id':\n",
      "  Example 1:\n",
      "    Article 1 story_id: 400dabdf-c81e-482a-9802-e8fd9e140b1b, ('Access to affordable energy for 300m Africans by 2030 doable - Presidential aide', 'QUICK NEWS AFRICA')\n",
      "    Article 2 story_id: rss_46638_1738033811444_6, ('Access to affordable energy for 300m Africans by 2030 doable - Presidential aide', 'EnviroNews Nigeria -')\n",
      "  Example 2:\n",
      "    Article 1 story_id: 179771b1-4fb3-4fb9-a228-61fa7cc021c8, ('David Moyes returns to Everton as manager', 'Jersey Evening Post')\n",
      "    Article 2 story_id: 5330e6c6-9962-4e3d-b936-9e929d923f8c, ('David Moyes returns as manager of struggling Everton', 'Barrie Today')\n",
      "  Example 3:\n",
      "    Article 1 story_id: 179771b1-4fb3-4fb9-a228-61fa7cc021c8, ('David Moyes returns to Everton as manager', 'Banbury FM')\n",
      "    Article 2 story_id: 5330e6c6-9962-4e3d-b936-9e929d923f8c, ('David Moyes returns as manager of struggling Everton', 'thealbertan.com')\n",
      "  Example 4:\n",
      "    Article 1 story_id: 179771b1-4fb3-4fb9-a228-61fa7cc021c8, ('David Moyes returns to Everton as manager', 'StatePress NG')\n",
      "    Article 2 story_id: 5330e6c6-9962-4e3d-b936-9e929d923f8c, ('David Moyes returns as manager of struggling Everton', 'meadowlakeNOW')\n",
      "  Example 5:\n",
      "    Article 1 story_id: 70f923ca-bf52-4fbb-b7f7-9fae3993d980, ('Firefighters battle devastating Los Angeles wildfires as winds calm somewhat', 'The Baltimore Banner')\n",
      "    Article 2 story_id: fe383281-a025-47d8-85f3-e926221a3850, ('New LA-area fire prompts more evacuations while over 10,000 structures lost to the 2 biggest blazes', 'burlingtontoday.com')\n",
      "  Example 6:\n",
      "    Article 1 story_id: rss_12460_1735770365949_9, (\"2024 was China's hottest year on record\", 'Le Monde')\n",
      "    Article 2 story_id: 096fdfd6-80be-4375-b3d2-863a2b1c43e9, ('Taiwan says 2024 was hottest year on record', 'Hindustan Times')\n",
      "  Example 7:\n",
      "    Article 1 story_id: rss_20731_1735598095490_11, ('Climate change brought extreme weather, heat in 2024-UN', 'Jordan Times')\n",
      "    Article 2 story_id: 51e9ce08-43ed-4596-ad74-a468af6b409f, ('Climate change brought extreme weather, heat in 2024: UN', 'The New Arab')\n",
      "  Example 8:\n",
      "    Article 1 story_id: 2a4599f3-e467-4a9d-9b8d-06683bd4c66a, ('Mozambique death toll from Cyclone Chido climbs to 94', 'Daily Sabah')\n",
      "    Article 2 story_id: 7bfd8780-2584-46fc-92e7-ef2a286f566c, ('Death toll rises to 94 in Mozambique following devastating Cyclone Chido', 'Hindustan Times')\n",
      "  Example 9:\n",
      "    Article 1 story_id: 29372c26-7b1e-4104-9a47-d714b0521723, ('France Rushes Aid To Mayotte After Cyclone Chido Leaves Hundreds Feared Dead', 'omahadailyrecord.com')\n",
      "    Article 2 story_id: af16ead5-56e1-4ffe-93d6-f0b215bf5338, ('France rushes help to Mayotte, where hundreds or even thousands died in Cyclone Chido', 'The Hindu')\n",
      "  Example 10:\n",
      "    Article 1 story_id: 29372c26-7b1e-4104-9a47-d714b0521723, ('France Rushes Aid To Mayotte After Cyclone Chido Leaves Hundreds Feared Dead', 'omahadailyrecord.com')\n",
      "    Article 2 story_id: af16ead5-56e1-4ffe-93d6-f0b215bf5338, ('France rushes aid to Mayotte after Cyclone Chido leaves hundreds feared dead', 'The NOTL Local')\n",
      "\n",
      "Examples of mismatches in 'source_bias':\n",
      "  Example 1:\n",
      "    Article 1 source_bias: leanLeft, ('South Africa urges cooperation at G20 meeting amid tensions over Ukraine', 'Al Jazeera')\n",
      "    Article 2 source_bias: center, (\"South Africa's Ramaphosa calls for 'cooperation' at G20 meeting\", 'The Express Tribune')\n",
      "  Example 2:\n",
      "    Article 1 source_bias: center, ('Trump bans paper straws, restores plastic in federal use', 'WLWT')\n",
      "    Article 2 source_bias: leanLeft, ('Trump bans paper straws, restores plastic in federal use', 'Koco News5')\n",
      "  Example 3:\n",
      "    Article 1 source_bias: leanLeft, ('Trump bans paper straws, restores plastic in federal use', 'Koco News5')\n",
      "    Article 2 source_bias: center, ('Trump bans paper straws, restores plastic in federal use', 'KETV')\n",
      "  Example 4:\n",
      "    Article 1 source_bias: leanLeft, ('Small businesses still being taxed on carbon rebates, federation says', 'Global News')\n",
      "    Article 2 source_bias: right, ('Small businesses still being taxed on carbon rebates, federation says', 'Toronto Sun')\n",
      "  Example 5:\n",
      "    Article 1 source_bias: leanRight, ('22 states sue New York, alleging environmental fund is unconstitutional', 'Financial Post')\n",
      "    Article 2 source_bias: center, ('22 states sue New York, alleging environmental fund is unconstitutional', 'Staten Island Advance')\n",
      "  Example 6:\n",
      "    Article 1 source_bias: leanRight, ('Climate change worsened conditions that fed California wildfires: study', 'Boston Herald')\n",
      "    Article 2 source_bias: leanLeft, ('Study says climate change made conditions that fed California wildfires more likely, more intense', 'Barrie Today')\n",
      "  Example 7:\n",
      "    Article 1 source_bias: leanLeft, (\"'Doomsday Clock' moves closer to midnight\", 'Associated Press News')\n",
      "    Article 2 source_bias: center, (\"'Doomsday Clock' Moves Closer to Midnight Amid Threats of Climate Change, Nuclear War, Pandemics, AI\", 'VINnews')\n",
      "  Example 8:\n",
      "    Article 1 source_bias: leanLeft, ('California utility reports fault on power line miles away from origin of deadly Eaton fire', 'Rocky Mountain Outlook')\n",
      "    Article 2 source_bias: center, ('California utility reports fault on power line miles away from origin of deadly Eaton fire', 'WPLG')\n",
      "  Example 9:\n",
      "    Article 1 source_bias: center, ('Study projects millions of European heat deaths as world warms', 'Winnipeg Free Press')\n",
      "    Article 2 source_bias: left, ('Millions Of European Heat Deaths Projected As World Warms', 'HuffPost')\n",
      "  Example 10:\n",
      "    Article 1 source_bias: leanLeft, ('US economic losses from natural disasters soared in 2024, even as they eased globally', 'Associated Press News')\n",
      "    Article 2 source_bias: leanRight, ('US economic losses from natural disasters rose in 2024, even as they eased globally', 'Washington Times')\n",
      "\n",
      "Examples of mismatches in 'source_owners':\n",
      "  Example 1:\n",
      "    Article 1 source_owners: Hearst Communications, ('Trump bans paper straws, restores plastic in federal use', 'WAPT')\n",
      "    Article 2 source_owners: Tegna Inc., ('President Donald Trump takes aim at paper straws with new executive order', 'WUSA9')\n",
      "  Example 2:\n",
      "    Article 1 source_owners: Corus Entertainment, ('Small businesses still being taxed on carbon rebates, federation says', 'Global News')\n",
      "    Article 2 source_owners: Leon Cooperman, Allianz, ('Small businesses still being taxed on carbon rebates, federation says', 'Toronto Sun')\n",
      "  Example 3:\n",
      "    Article 1 source_owners: Leon Cooperman, Allianz, ('22 states sue New York, alleging environmental fund is unconstitutional', 'Financial Post')\n",
      "    Article 2 source_owners: Advance Publications, ('22 states sue New York, alleging environmental fund is unconstitutional', 'Staten Island Advance')\n",
      "  Example 4:\n",
      "    Article 1 source_owners: Independent Media, (\"'Doomsday Clock' moves closer to midnight\", 'Associated Press News')\n",
      "    Article 2 source_owners: Tegna Inc., (\"'Doomsday Clock': How many seconds left until midnight?\", 'WCSH')\n",
      "  Example 5:\n",
      "    Article 1 source_owners: Glacier Media, ('California utility reports fault on power line miles away from origin of deadly Eaton fire', 'Rocky Mountain Outlook')\n",
      "    Article 2 source_owners: Howard Buffett, ('California utility reports fault on power line miles away from origin of deadly Eaton fire', 'WPLG')\n",
      "  Example 6:\n",
      "    Article 1 source_owners: Independent Media, ('US economic losses from natural disasters soared in 2024, even as they eased globally', 'Associated Press News')\n",
      "    Article 2 source_owners: The Washington Times LLC, ('US economic losses from natural disasters rose in 2024, even as they eased globally', 'Washington Times')\n",
      "  Example 7:\n",
      "    Article 1 source_owners: Glacier Media, ('Nearly 250 million children missed school last year because of extreme weather, UNICEF says', 'Rocky Mountain Outlook')\n",
      "    Article 2 source_owners: Leon Cooperman, Allianz, ('Nearly 250 million children missed school last year because of extreme weather, UNICEF says', 'Winnipeg Sun')\n",
      "  Example 8:\n",
      "    Article 1 source_owners: Glacier Media, (\"What to know about President Donald Trump's order targeting the rights of transgender people\", 'Prince George Citizen')\n",
      "    Article 2 source_owners: The Seattle Times Company, ('What to know about President Donald Trump’s order targeting the rights of transgender people', 'The Seattle Times')\n",
      "  Example 9:\n",
      "    Article 1 source_owners: The Woodbridge Company, ('Trump launches new cryptocurrency before taking office on pro-crypto agenda', 'The Globe & Mail')\n",
      "    Article 2 source_owners: Hearst Communications, ('Trump promotes new meme coin before taking office', 'WDSU')\n",
      "  Example 10:\n",
      "    Article 1 source_owners: Howard Buffett, (\"Hundreds of dead sea turtles are washing ashore on India's coast\", 'WPLG')\n",
      "    Article 2 source_owners: Hearst Communications, (\"Hundreds of dead sea turtles are washing ashore on India's coast\", 'KETV')\n"
     ]
    }
   ],
   "source": [
    "import numpy as np\n",
    "import pandas as pd\n",
    "\n",
    "# Extract the relevant columns from the metadata DataFrame as numpy arrays.\n",
    "story_ids = df['story_id'].values\n",
    "source_factuality = df['source_factuality'].values\n",
    "source_bias = df['source_bias'].values\n",
    "source_owners = df['source_owners'].values\n",
    "\n",
    "# Get the paired indices from df_results.\n",
    "i_idx = df_results['i'].values\n",
    "j_idx = df_results['j'].values\n",
    "\n",
    "# Define a function to create a valid mask (exclude nan and \"unknown\" values).\n",
    "def valid_mask(arr):\n",
    "    # Using pd.isna to catch NaN values; compare against the string \"unknown\".\n",
    "    valid_i = (~pd.isna(arr[i_idx])) & (arr[i_idx] != \"unknown\")\n",
    "    valid_j = (~pd.isna(arr[j_idx])) & (arr[j_idx] != \"unknown\")\n",
    "    return valid_i & valid_j\n",
    "\n",
    "# Prepare the columns to examine.\n",
    "columns = {\n",
    "    'story_id': story_ids,\n",
    "    'source_bias': source_bias,\n",
    "    'source_owners': source_owners\n",
    "}\n",
    "\n",
    "print(\"General Matching Statistics (ignoring pairs with 'unknown' or NaN):\")\n",
    "for col_name, arr in columns.items():\n",
    "    # Build the valid mask for the current column.\n",
    "    valid = valid_mask(arr)\n",
    "    valid_count = np.sum(valid)\n",
    "    if valid_count > 0:\n",
    "        # Calculate proportion of matches among the valid pairs.\n",
    "        match_mask = (arr[i_idx] == arr[j_idx])\n",
    "        prop = np.mean(match_mask[valid])\n",
    "        print(f\"  {col_name:20s}: {prop:.2%} matches over {valid_count} valid pairs\")\n",
    "    else:\n",
    "        print(f\"  {col_name:20s}: No valid pairs available.\")\n",
    "    \n",
    "print(\"=\" * 50)\n",
    "\n",
    "# Now, for each examined column, print 3 specific examples of mismatches among valid pairs.\n",
    "for col_name, arr in columns.items():\n",
    "    print(f\"\\nExamples of mismatches in '{col_name}':\")\n",
    "    valid = valid_mask(arr)\n",
    "    # Compute mismatches only for valid pairs.\n",
    "    mismatch_mask = (arr[i_idx] != arr[j_idx]) & valid\n",
    "    mismatch_indices = np.where(mismatch_mask)[0]\n",
    "    \n",
    "    if len(mismatch_indices) == 0:\n",
    "        print(\"  No mismatches found among valid pairs.\")\n",
    "    else:\n",
    "        num_examples = min(10, len(mismatch_indices))\n",
    "        for count, idx in enumerate(mismatch_indices[:num_examples], start=1):\n",
    "            i_val = i_idx[idx]\n",
    "            j_val = j_idx[idx]\n",
    "            print(f\"  Example {count}:\")\n",
    "            print(f\"    Article 1 {col_name}: {df.loc[i_val, col_name]}, {df.loc[i_val, 'article_title'], df.loc[i_val, 'source_name']}\")\n",
    "            print(f\"    Article 2 {col_name}: {df.loc[j_val, col_name]}, {df.loc[j_val, 'article_title'], df.loc[j_val, 'source_name']}\")\n"
   ]
  },
  {
   "cell_type": "code",
   "execution_count": null,
   "metadata": {},
   "outputs": [
    {
     "name": "stdout",
     "output_type": "stream",
     "text": [
      "Error '<' not supported between instances of 'str' and 'float' for The Star Kuala Lumpur and Space Daily\n",
      "Error '<' not supported between instances of 'str' and 'float' for The Straits Times and risingnepaldaily.com\n",
      "Error '<' not supported between instances of 'str' and 'float' for eNCA and winddaily.com\n",
      "Error '<' not supported between instances of 'str' and 'float' for Malay Mail and Space Daily\n",
      "Error '<' not supported between instances of 'str' and 'float' for Legit.ng - Nigeria news. and oilgasdaily.com\n",
      "Error '<' not supported between instances of 'str' and 'float' for CoreTV News and Nigerian News. Latest Nigeria News. Your online Nigerian Newspaper.\n",
      "Error '<' not supported between instances of 'str' and 'float' for The Straits Times and Energy News for the United States Oil & Gas Industry | EnergyNow.com\n",
      "Error '<' not supported between instances of 'str' and 'float' for Punch Newspapers and Nigerian News. Latest Nigeria News. Your online Nigerian Newspaper.\n",
      "Error '<' not supported between instances of 'str' and 'float' for Times Live and The Frontier Post\n",
      "Error '<' not supported between instances of 'str' and 'float' for Legit.ng - Nigeria news. and terradaily.com\n",
      "Error '<' not supported between instances of 'str' and 'float' for EnviroLink Network and My Mother Lode\n",
      "{'haltonhillstoday.ca': 12, 'Winnipeg Free Press': 11, 'Midland Today': 9, 'flamboroughtoday.com': 8, 'Thorold Today': 8, 'The NOTL Local': 8, 'Western Investor': 8, 'InnisfilToday.ca': 7, 'StratfordToday.ca': 7, 'Timmins Today': 7, 'burlingtontoday.com': 7, 'CambridgeToday.ca': 6, 'Newmarket Today': 6, 'thealbertan.com': 6, 'fitzhugh.ca': 6, 'Orillia Matters': 5, 'Collingwood Today': 5, 'ElliotLakeToday.com': 5, 'castanet.net': 5, 'elrisala.com': 5}\n"
     ]
    }
   ],
   "source": [
    "# Create a directed graph G, with weights\n",
    "\n",
    "import networkx as nx\n",
    "G = nx.DiGraph()\n",
    "for row in df_results.iterrows():\n",
    "    i  = row[1]['i']\n",
    "    j = row[1]['j']\n",
    "    source_i = df['source_name'][i]\n",
    "    source_j = df['source_name'][j]\n",
    "    time_i = df['article_date_publish'][i]\n",
    "    time_j = df['article_date_publish'][j]\n",
    "    try:\n",
    "        if source_i != source_j:\n",
    "            if time_i < time_j:\n",
    "                s= source_i\n",
    "                e = source_j\n",
    "            else:\n",
    "                s = source_j\n",
    "                e = source_i\n",
    "            if G.has_edge(s, e):\n",
    "                G[s][e]['weight'] += 1\n",
    "            else:\n",
    "                G.add_edge(s, e, weight=1)\n",
    "    except Exception as e:\n",
    "        print(f\"Error {e} for {source_i} and {source_j}\")\n",
    "\n",
    "# check nodes in G by out_degree\n",
    "out_degree = G.out_degree()\n",
    "out_degree = dict(out_degree)\n",
    "out_degree = {k: v for k, v in sorted(out_degree.items(), key=lambda item: item[1], reverse=True)[:20]}\n",
    "print(out_degree)\n"
   ]
  },
  {
   "cell_type": "code",
   "execution_count": 31,
   "metadata": {},
   "outputs": [
    {
     "name": "stdout",
     "output_type": "stream",
     "text": [
      "{'Barrie Today': 10, 'Rocky Mountain Outlook': 8, 'Midland Today': 8, 'Newmarket Today': 7, 'KCRA 3': 7, 'Victoria News': 7, 'Bradford Today': 6, 'Newsday': 6, 'Koco News5': 5, 'haltonhillstoday.ca': 5, 'thealbertan.com': 5, 'Sicamous Eagle Valley News': 5, 'Associated Press News': 5, 'Winnipeg Sun': 5, 'Kitimat Northern Sentinel': 5, 'Moose Jaw Today': 5, 'Orillia Matters': 4, 'Collingwood Today': 4, 'Sask Today': 4, 'Coast Reporter': 4}\n"
     ]
    }
   ],
   "source": [
    "# check nodes in G by out_degree\n",
    "in_degree = G.in_degree()\n",
    "in_degree = dict(in_degree)\n",
    "in_degree = {k: v for k, v in sorted(in_degree.items(), key=lambda item: item[1], reverse=True)[:20]}\n",
    "print(in_degree)"
   ]
  },
  {
   "cell_type": "code",
   "execution_count": 30,
   "metadata": {},
   "outputs": [
    {
     "data": {
      "text/plain": [
       "['Winnipeg Free Press',\n",
       " 'Collingwood Today',\n",
       " 'Orillia Matters',\n",
       " 'Bowen Island Undercurrent',\n",
       " '1059theregion.com',\n",
       " 'Bradford Today',\n",
       " 'Barrie Today',\n",
       " 'The NOTL Local',\n",
       " 'fitzhugh.ca',\n",
       " 'SooToday.com',\n",
       " 'Newmarket Today',\n",
       " 'Oakville News']"
      ]
     },
     "execution_count": 30,
     "metadata": {},
     "output_type": "execute_result"
    }
   ],
   "source": [
    "# find all neighbors of a node\n",
    "neighbors = list(G.neighbors('haltonhillstoday.ca'))\n"
   ]
  },
  {
   "cell_type": "code",
   "execution_count": 32,
   "metadata": {},
   "outputs": [
    {
     "data": {
      "text/plain": [
       "['crestonvalleyadvance.ca']"
      ]
     },
     "execution_count": 32,
     "metadata": {},
     "output_type": "execute_result"
    }
   ],
   "source": [
    "list(G.neighbors('Victoria News'))"
   ]
  }
 ],
 "metadata": {
  "kernelspec": {
   "display_name": "base",
   "language": "python",
   "name": "python3"
  },
  "language_info": {
   "codemirror_mode": {
    "name": "ipython",
    "version": 3
   },
   "file_extension": ".py",
   "mimetype": "text/x-python",
   "name": "python",
   "nbconvert_exporter": "python",
   "pygments_lexer": "ipython3",
   "version": "3.11.7"
  }
 },
 "nbformat": 4,
 "nbformat_minor": 2
}
