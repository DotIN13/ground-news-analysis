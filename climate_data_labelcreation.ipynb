{
  "cells": [
    {
      "cell_type": "code",
      "execution_count": 20,
      "metadata": {
        "id": "Fnjj2rQ4uht1"
      },
      "outputs": [],
      "source": [
        "import numpy as np\n",
        "import pandas as pd\n",
        "import matplotlib.pyplot as plt\n",
        "import seaborn as sns\n",
        "from tqdm import tqdm"
      ]
    },
    {
      "cell_type": "code",
      "execution_count": 21,
      "metadata": {
        "id": "chDZ60EIutMD"
      },
      "outputs": [],
      "source": [
        "from transformers import pipeline, AutoModelForSequenceClassification, AutoTokenizer\n",
        "import torch"
      ]
    },
    {
      "cell_type": "markdown",
      "metadata": {
        "id": "IFtfVhcxLrzZ"
      },
      "source": [
        "### Data Preparation"
      ]
    },
    {
      "cell_type": "markdown",
      "metadata": {},
      "source": []
    },
    {
      "cell_type": "code",
      "execution_count": 45,
      "metadata": {
        "id": "5Bjq1aKhu3Q2"
      },
      "outputs": [],
      "source": [
        "cc_df = pd.read_csv(\"data/ai_climate_israel_articles/climate-change_articles.csv\")"
      ]
    },
    {
      "cell_type": "code",
      "execution_count": 46,
      "metadata": {
        "id": "I5dLjmIPu7Q2"
      },
      "outputs": [],
      "source": [
        "cc_df['article_text'] = cc_df['article_text'].astype(str)\n",
        "cc_df.dropna(subset=['article_text'], inplace=True)\n",
        "cc_df = cc_df[cc_df['article_text'].str.len() >= 512].copy()"
      ]
    },
    {
      "cell_type": "code",
      "execution_count": 47,
      "metadata": {
        "colab": {
          "base_uri": "https://localhost:8080/"
        },
        "id": "HAlMWIVlSykq",
        "outputId": "f3fb1afc-22ab-450c-8485-d1c466df1c36"
      },
      "outputs": [
        {
          "data": {
            "text/plain": [
              "(48900, 25)"
            ]
          },
          "execution_count": 47,
          "metadata": {},
          "output_type": "execute_result"
        }
      ],
      "source": [
        "cc_df.shape"
      ]
    },
    {
      "cell_type": "code",
      "execution_count": 49,
      "metadata": {},
      "outputs": [
        {
          "data": {
            "text/plain": [
              "(19176, 25)"
            ]
          },
          "execution_count": 49,
          "metadata": {},
          "output_type": "execute_result"
        }
      ],
      "source": [
        "# remove unknown source bias and duplicate url articles\n",
        "cc_df = cc_df[cc_df['source_bias'] != 'unknown'].copy()\n",
        "cc_df.shape"
      ]
    },
    {
      "cell_type": "code",
      "execution_count": 76,
      "metadata": {
        "id": "Mgfivk3jgR9B"
      },
      "outputs": [],
      "source": [
        "cc_df_demo = cc_df.sample(100, random_state=42)"
      ]
    },
    {
      "cell_type": "markdown",
      "metadata": {
        "id": "LsXv4WGi9NZD"
      },
      "source": [
        "### Pretrained Model for Bias Classification"
      ]
    },
    {
      "cell_type": "code",
      "execution_count": null,
      "metadata": {
        "id": "AFajnl3C9TpC"
      },
      "outputs": [],
      "source": [
        "# repository for the pre-trained model\n",
        "repository = \"premsa/political-bias-prediction-allsides-BERT\"\n",
        "\n",
        "model = AutoModelForSequenceClassification.from_pretrained(repository)\n",
        "tokenizer = AutoTokenizer.from_pretrained(repository)\n",
        "\n",
        "classifier = pipeline(\"text-classification\", model=model, tokenizer=tokenizer)\n",
        "\n",
        "device = torch.device(\"cuda\" if torch.cuda.is_available() else \"cpu\")\n",
        "model.to(device)\n",
        "model.eval()"
      ]
    },
    {
      "cell_type": "code",
      "execution_count": 132,
      "metadata": {
        "colab": {
          "base_uri": "https://localhost:8080/",
          "height": 667
        },
        "id": "SiErJ8l79Tcl",
        "outputId": "8ff832d6-694a-4710-f1d3-cd0e62c631cb"
      },
      "outputs": [],
      "source": [
        "label_mapping = {\n",
        "    0: \"Left\",\n",
        "    1: \"Center\",\n",
        "    2: \"Right\"\n",
        "}"
      ]
    },
    {
      "cell_type": "code",
      "execution_count": 133,
      "metadata": {},
      "outputs": [],
      "source": [
        "# chunk texts\n",
        "def chunk_token_ids(text, tokenizer, max_length=512):\n",
        "    encoded = tokenizer.encode(text, add_special_tokens=False)\n",
        "    chunks = []\n",
        "    effective_length = max_length - 2\n",
        "    for i in range(0, len(encoded), effective_length):\n",
        "        chunk_ids = encoded[i:i+effective_length]\n",
        "        chunk_ids = [tokenizer.cls_token_id] + chunk_ids + [tokenizer.sep_token_id]\n",
        "        chunk_ids = chunk_ids[:max_length]\n",
        "        chunks.append(chunk_ids)\n",
        "    return chunks"
      ]
    },
    {
      "cell_type": "code",
      "execution_count": 134,
      "metadata": {},
      "outputs": [
        {
          "name": "stderr",
          "output_type": "stream",
          "text": [
            "Chunking articles:   0%|          | 0/100 [00:00<?, ?it/s]Token indices sequence length is longer than the specified maximum sequence length for this model (917 > 512). Running this sequence through the model will result in indexing errors\n",
            "Chunking articles: 100%|██████████| 100/100 [00:00<00:00, 477.67it/s]\n"
          ]
        }
      ],
      "source": [
        "chunks_list = [chunk_token_ids(article, tokenizer, max_length=512)\n",
        "               for article in tqdm(cc_df_demo[\"article_text\"], desc=\"Chunking articles\")]\n",
        "\n",
        "all_chunks = [chunk for article_chunks in chunks_list for chunk in article_chunks]\n",
        "\n",
        "article_chunk_map = {}\n",
        "current_index = 0\n",
        "for idx, article_chunks in enumerate(chunks_list):\n",
        "    n_chunks = len(article_chunks)\n",
        "    article_chunk_map[idx] = list(range(current_index, current_index + n_chunks))\n",
        "    current_index += n_chunks"
      ]
    },
    {
      "cell_type": "code",
      "execution_count": 135,
      "metadata": {},
      "outputs": [
        {
          "name": "stderr",
          "output_type": "stream",
          "text": [
            "Processing chunks:   0%|          | 0/8 [00:00<?, ?it/s]You're using a BertTokenizerFast tokenizer. Please note that with a fast tokenizer, using the `__call__` method is faster than using a method to encode the text followed by a call to the `pad` method to get a padded encoding.\n",
            "Processing chunks: 100%|██████████| 8/8 [00:37<00:00,  4.66s/it]\n"
          ]
        }
      ],
      "source": [
        "batch_size = 32 \n",
        "all_probs = [] \n",
        "\n",
        "for i in tqdm(range(0, len(all_chunks), batch_size), desc=\"Processing chunks\"):\n",
        "    batch_chunks = all_chunks[i:i+batch_size]\n",
        "  \n",
        "    batch_inputs = tokenizer.pad({\"input_ids\": batch_chunks}, return_tensors=\"pt\")\n",
        "    \n",
        "    with torch.no_grad():\n",
        "        outputs = model(**batch_inputs)\n",
        "    logits = outputs.logits\n",
        "    # Apply softmax to geat probabilities\n",
        "    probs = torch.softmax(logits, dim=-1).cpu().numpy()\n",
        "    all_probs.extend(probs)"
      ]
    },
    {
      "cell_type": "code",
      "execution_count": 136,
      "metadata": {},
      "outputs": [],
      "source": [
        "predicted_labels = []\n",
        "for idx in range(len(cc_df_demo)):\n",
        "    indices = article_chunk_map.get(idx, [])\n",
        "    if not indices:\n",
        "        predicted_labels.append(None)\n",
        "        continue\n",
        "    # Average probabilities for all chunks of this article.\n",
        "    article_probs = [all_probs[i] for i in indices]\n",
        "    avg_probs = np.mean(article_probs, axis=0)\n",
        "    final_idx = int(np.argmax(avg_probs))\n",
        "    predicted_labels.append(label_mapping[final_idx])\n",
        "\n",
        "cc_df_demo[\"article_bias\"] = predicted_labels"
      ]
    },
    {
      "cell_type": "code",
      "execution_count": 137,
      "metadata": {},
      "outputs": [
        {
          "data": {
            "text/plain": [
              "article_bias\n",
              "Left      77\n",
              "Right     14\n",
              "Center     9\n",
              "Name: count, dtype: int64"
            ]
          },
          "execution_count": 137,
          "metadata": {},
          "output_type": "execute_result"
        }
      ],
      "source": [
        "cc_df_demo[\"article_bias\"].value_counts()"
      ]
    },
    {
      "cell_type": "code",
      "execution_count": 138,
      "metadata": {},
      "outputs": [
        {
          "data": {
            "text/plain": [
              "source_bias\n",
              "center       37\n",
              "leanLeft     37\n",
              "left          8\n",
              "leanRight     8\n",
              "right         7\n",
              "farRight      3\n",
              "Name: count, dtype: int64"
            ]
          },
          "execution_count": 138,
          "metadata": {},
          "output_type": "execute_result"
        }
      ],
      "source": [
        "cc_df_demo[\"source_bias\"].value_counts()"
      ]
    },
    {
      "cell_type": "code",
      "execution_count": null,
      "metadata": {},
      "outputs": [],
      "source": []
    }
  ],
  "metadata": {
    "accelerator": "GPU",
    "colab": {
      "collapsed_sections": [
        "V4CPu01JLoFq",
        "OymbD8DbPbkH"
      ],
      "gpuType": "T4",
      "provenance": []
    },
    "kernelspec": {
      "display_name": "base",
      "language": "python",
      "name": "python3"
    },
    "language_info": {
      "codemirror_mode": {
        "name": "ipython",
        "version": 3
      },
      "file_extension": ".py",
      "mimetype": "text/x-python",
      "name": "python",
      "nbconvert_exporter": "python",
      "pygments_lexer": "ipython3",
      "version": "3.12.2"
    },
    "widgets": {
      "application/vnd.jupyter.widget-state+json": {
        "049e27f5ede540078b271aea3d71b0fa": {
          "model_module": "@jupyter-widgets/controls",
          "model_module_version": "1.5.0",
          "model_name": "HTMLModel",
          "state": {
            "_dom_classes": [],
            "_model_module": "@jupyter-widgets/controls",
            "_model_module_version": "1.5.0",
            "_model_name": "HTMLModel",
            "_view_count": null,
            "_view_module": "@jupyter-widgets/controls",
            "_view_module_version": "1.5.0",
            "_view_name": "HTMLView",
            "description": "",
            "description_tooltip": null,
            "layout": "IPY_MODEL_d6f34498a42b407b829f1cf14e26efc8",
            "placeholder": "​",
            "style": "IPY_MODEL_38d542d047d8402baccb65f181b925b9",
            "value": " 600/600 [53:42&lt;00:00,  3.35s/it]"
          }
        },
        "20d6f09e133345a185a70ceb943ffdaf": {
          "model_module": "@jupyter-widgets/controls",
          "model_module_version": "1.5.0",
          "model_name": "FloatProgressModel",
          "state": {
            "_dom_classes": [],
            "_model_module": "@jupyter-widgets/controls",
            "_model_module_version": "1.5.0",
            "_model_name": "FloatProgressModel",
            "_view_count": null,
            "_view_module": "@jupyter-widgets/controls",
            "_view_module_version": "1.5.0",
            "_view_name": "ProgressView",
            "bar_style": "success",
            "description": "",
            "description_tooltip": null,
            "layout": "IPY_MODEL_d4a47f9d2d1a49adb50d7172dee5258f",
            "max": 600,
            "min": 0,
            "orientation": "horizontal",
            "style": "IPY_MODEL_6d3afbf06a2a487897ce75c50fe0f9b2",
            "value": 600
          }
        },
        "38d542d047d8402baccb65f181b925b9": {
          "model_module": "@jupyter-widgets/controls",
          "model_module_version": "1.5.0",
          "model_name": "DescriptionStyleModel",
          "state": {
            "_model_module": "@jupyter-widgets/controls",
            "_model_module_version": "1.5.0",
            "_model_name": "DescriptionStyleModel",
            "_view_count": null,
            "_view_module": "@jupyter-widgets/base",
            "_view_module_version": "1.2.0",
            "_view_name": "StyleView",
            "description_width": ""
          }
        },
        "57a0388f31804f679d1ca65fe654916c": {
          "model_module": "@jupyter-widgets/base",
          "model_module_version": "1.2.0",
          "model_name": "LayoutModel",
          "state": {
            "_model_module": "@jupyter-widgets/base",
            "_model_module_version": "1.2.0",
            "_model_name": "LayoutModel",
            "_view_count": null,
            "_view_module": "@jupyter-widgets/base",
            "_view_module_version": "1.2.0",
            "_view_name": "LayoutView",
            "align_content": null,
            "align_items": null,
            "align_self": null,
            "border": null,
            "bottom": null,
            "display": null,
            "flex": null,
            "flex_flow": null,
            "grid_area": null,
            "grid_auto_columns": null,
            "grid_auto_flow": null,
            "grid_auto_rows": null,
            "grid_column": null,
            "grid_gap": null,
            "grid_row": null,
            "grid_template_areas": null,
            "grid_template_columns": null,
            "grid_template_rows": null,
            "height": null,
            "justify_content": null,
            "justify_items": null,
            "left": null,
            "margin": null,
            "max_height": null,
            "max_width": null,
            "min_height": null,
            "min_width": null,
            "object_fit": null,
            "object_position": null,
            "order": null,
            "overflow": null,
            "overflow_x": null,
            "overflow_y": null,
            "padding": null,
            "right": null,
            "top": null,
            "visibility": null,
            "width": null
          }
        },
        "6d3afbf06a2a487897ce75c50fe0f9b2": {
          "model_module": "@jupyter-widgets/controls",
          "model_module_version": "1.5.0",
          "model_name": "ProgressStyleModel",
          "state": {
            "_model_module": "@jupyter-widgets/controls",
            "_model_module_version": "1.5.0",
            "_model_name": "ProgressStyleModel",
            "_view_count": null,
            "_view_module": "@jupyter-widgets/base",
            "_view_module_version": "1.2.0",
            "_view_name": "StyleView",
            "bar_color": null,
            "description_width": ""
          }
        },
        "8827d89bfb114ae092383cc77fe6c2ef": {
          "model_module": "@jupyter-widgets/controls",
          "model_module_version": "1.5.0",
          "model_name": "HTMLModel",
          "state": {
            "_dom_classes": [],
            "_model_module": "@jupyter-widgets/controls",
            "_model_module_version": "1.5.0",
            "_model_name": "HTMLModel",
            "_view_count": null,
            "_view_module": "@jupyter-widgets/controls",
            "_view_module_version": "1.5.0",
            "_view_name": "HTMLView",
            "description": "",
            "description_tooltip": null,
            "layout": "IPY_MODEL_57a0388f31804f679d1ca65fe654916c",
            "placeholder": "​",
            "style": "IPY_MODEL_c7929112ef2e41dfa7b193002ebf5e95",
            "value": "Batches: 100%"
          }
        },
        "c7929112ef2e41dfa7b193002ebf5e95": {
          "model_module": "@jupyter-widgets/controls",
          "model_module_version": "1.5.0",
          "model_name": "DescriptionStyleModel",
          "state": {
            "_model_module": "@jupyter-widgets/controls",
            "_model_module_version": "1.5.0",
            "_model_name": "DescriptionStyleModel",
            "_view_count": null,
            "_view_module": "@jupyter-widgets/base",
            "_view_module_version": "1.2.0",
            "_view_name": "StyleView",
            "description_width": ""
          }
        },
        "d4a47f9d2d1a49adb50d7172dee5258f": {
          "model_module": "@jupyter-widgets/base",
          "model_module_version": "1.2.0",
          "model_name": "LayoutModel",
          "state": {
            "_model_module": "@jupyter-widgets/base",
            "_model_module_version": "1.2.0",
            "_model_name": "LayoutModel",
            "_view_count": null,
            "_view_module": "@jupyter-widgets/base",
            "_view_module_version": "1.2.0",
            "_view_name": "LayoutView",
            "align_content": null,
            "align_items": null,
            "align_self": null,
            "border": null,
            "bottom": null,
            "display": null,
            "flex": null,
            "flex_flow": null,
            "grid_area": null,
            "grid_auto_columns": null,
            "grid_auto_flow": null,
            "grid_auto_rows": null,
            "grid_column": null,
            "grid_gap": null,
            "grid_row": null,
            "grid_template_areas": null,
            "grid_template_columns": null,
            "grid_template_rows": null,
            "height": null,
            "justify_content": null,
            "justify_items": null,
            "left": null,
            "margin": null,
            "max_height": null,
            "max_width": null,
            "min_height": null,
            "min_width": null,
            "object_fit": null,
            "object_position": null,
            "order": null,
            "overflow": null,
            "overflow_x": null,
            "overflow_y": null,
            "padding": null,
            "right": null,
            "top": null,
            "visibility": null,
            "width": null
          }
        },
        "d6f34498a42b407b829f1cf14e26efc8": {
          "model_module": "@jupyter-widgets/base",
          "model_module_version": "1.2.0",
          "model_name": "LayoutModel",
          "state": {
            "_model_module": "@jupyter-widgets/base",
            "_model_module_version": "1.2.0",
            "_model_name": "LayoutModel",
            "_view_count": null,
            "_view_module": "@jupyter-widgets/base",
            "_view_module_version": "1.2.0",
            "_view_name": "LayoutView",
            "align_content": null,
            "align_items": null,
            "align_self": null,
            "border": null,
            "bottom": null,
            "display": null,
            "flex": null,
            "flex_flow": null,
            "grid_area": null,
            "grid_auto_columns": null,
            "grid_auto_flow": null,
            "grid_auto_rows": null,
            "grid_column": null,
            "grid_gap": null,
            "grid_row": null,
            "grid_template_areas": null,
            "grid_template_columns": null,
            "grid_template_rows": null,
            "height": null,
            "justify_content": null,
            "justify_items": null,
            "left": null,
            "margin": null,
            "max_height": null,
            "max_width": null,
            "min_height": null,
            "min_width": null,
            "object_fit": null,
            "object_position": null,
            "order": null,
            "overflow": null,
            "overflow_x": null,
            "overflow_y": null,
            "padding": null,
            "right": null,
            "top": null,
            "visibility": null,
            "width": null
          }
        },
        "da23ddd997534e8e9c8af745b393f76e": {
          "model_module": "@jupyter-widgets/base",
          "model_module_version": "1.2.0",
          "model_name": "LayoutModel",
          "state": {
            "_model_module": "@jupyter-widgets/base",
            "_model_module_version": "1.2.0",
            "_model_name": "LayoutModel",
            "_view_count": null,
            "_view_module": "@jupyter-widgets/base",
            "_view_module_version": "1.2.0",
            "_view_name": "LayoutView",
            "align_content": null,
            "align_items": null,
            "align_self": null,
            "border": null,
            "bottom": null,
            "display": null,
            "flex": null,
            "flex_flow": null,
            "grid_area": null,
            "grid_auto_columns": null,
            "grid_auto_flow": null,
            "grid_auto_rows": null,
            "grid_column": null,
            "grid_gap": null,
            "grid_row": null,
            "grid_template_areas": null,
            "grid_template_columns": null,
            "grid_template_rows": null,
            "height": null,
            "justify_content": null,
            "justify_items": null,
            "left": null,
            "margin": null,
            "max_height": null,
            "max_width": null,
            "min_height": null,
            "min_width": null,
            "object_fit": null,
            "object_position": null,
            "order": null,
            "overflow": null,
            "overflow_x": null,
            "overflow_y": null,
            "padding": null,
            "right": null,
            "top": null,
            "visibility": null,
            "width": null
          }
        },
        "e44abd345f024ed783d42540ea9627d1": {
          "model_module": "@jupyter-widgets/controls",
          "model_module_version": "1.5.0",
          "model_name": "HBoxModel",
          "state": {
            "_dom_classes": [],
            "_model_module": "@jupyter-widgets/controls",
            "_model_module_version": "1.5.0",
            "_model_name": "HBoxModel",
            "_view_count": null,
            "_view_module": "@jupyter-widgets/controls",
            "_view_module_version": "1.5.0",
            "_view_name": "HBoxView",
            "box_style": "",
            "children": [
              "IPY_MODEL_8827d89bfb114ae092383cc77fe6c2ef",
              "IPY_MODEL_20d6f09e133345a185a70ceb943ffdaf",
              "IPY_MODEL_049e27f5ede540078b271aea3d71b0fa"
            ],
            "layout": "IPY_MODEL_da23ddd997534e8e9c8af745b393f76e"
          }
        }
      }
    }
  },
  "nbformat": 4,
  "nbformat_minor": 0
}
